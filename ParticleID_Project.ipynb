{
 "cells": [
  {
   "cell_type": "markdown",
   "metadata": {},
   "source": [
    "<p> Cloud Chamber Particle Track Identifying Machine Learning Project </p>\n",
    "<p> By Merrick Lavinsky </p>"
   ]
  },
  {
   "cell_type": "code",
   "execution_count": 2,
   "metadata": {},
   "outputs": [
    {
     "ename": "error",
     "evalue": "OpenCV(4.5.5) /io/opencv/modules/highgui/src/precomp.hpp:155: error: (-215:Assertion failed) src_depth != CV_16F && src_depth != CV_32S in function 'convertToShow'\n",
     "output_type": "error",
     "traceback": [
      "\u001b[0;31m---------------------------------------------------------------------------\u001b[0m",
      "\u001b[0;31merror\u001b[0m                                     Traceback (most recent call last)",
      "\u001b[0;32m<ipython-input-2-89702bda9cc0>\u001b[0m in \u001b[0;36m<module>\u001b[0;34m\u001b[0m\n\u001b[1;32m     28\u001b[0m     \u001b[0;31m#            new_frame[i,j] = pixelval\u001b[0m\u001b[0;34m\u001b[0m\u001b[0;34m\u001b[0m\u001b[0;34m\u001b[0m\u001b[0m\n\u001b[1;32m     29\u001b[0m \u001b[0;34m\u001b[0m\u001b[0m\n\u001b[0;32m---> 30\u001b[0;31m     \u001b[0mcv2\u001b[0m\u001b[0;34m.\u001b[0m\u001b[0mimshow\u001b[0m\u001b[0;34m(\u001b[0m\u001b[0;34m'frame_diff'\u001b[0m\u001b[0;34m,\u001b[0m\u001b[0mPrevframe\u001b[0m\u001b[0;34m)\u001b[0m\u001b[0;34m\u001b[0m\u001b[0;34m\u001b[0m\u001b[0m\n\u001b[0m\u001b[1;32m     31\u001b[0m \u001b[0;34m\u001b[0m\u001b[0m\n\u001b[1;32m     32\u001b[0m     \u001b[0mPrevframe\u001b[0m \u001b[0;34m=\u001b[0m \u001b[0mnew_frame\u001b[0m\u001b[0;34m\u001b[0m\u001b[0;34m\u001b[0m\u001b[0m\n",
      "\u001b[0;31merror\u001b[0m: OpenCV(4.5.5) /io/opencv/modules/highgui/src/precomp.hpp:155: error: (-215:Assertion failed) src_depth != CV_16F && src_depth != CV_32S in function 'convertToShow'\n"
     ]
    }
   ],
   "source": [
    "#We first need to upload and split the video into its constituent frames\n",
    "import numpy as np\n",
    "import cv2\n",
    "\n",
    "Vid = cv2.VideoCapture('Project_Stuff/CCTL_0m55s.mp4')\n",
    "\n",
    "Prevframe = np.zeros([810, 1440], dtype=int)\n",
    "while(Vid.isOpened()):\n",
    "    ret, frame = Vid.read()\n",
    "    dimy = frame.shape[0]\n",
    "    dimx = frame.shape[1]\n",
    "    \n",
    "    new_frame = frame\n",
    "    \n",
    "    new_frame = cv2.cvtColor(new_frame, cv2.COLOR_BGR2GRAY)\n",
    "    #print(frame[400,0])\n",
    "    #cv2.imshow('frame',frame)\n",
    "    \n",
    "    frame_diff = new_frame - Prevframe\n",
    "    \n",
    "    #for i in range(dimy):\n",
    "    #    for j in range(dimx):\n",
    "    #        pixelval = frame[i,j]\n",
    "    #        if pixelval >= 150:\n",
    "    #            new_frame[i,j] = 100\n",
    "    #            print(\"fixed\")\n",
    "    #        else:\n",
    "    #            new_frame[i,j] = pixelval\n",
    "    \n",
    "    cv2.imshow('frame_diff',Prevframe)\n",
    "    \n",
    "    Prevframe = new_frame\n",
    "    print(frame_diff)\n",
    "    if cv2.waitKey(1) & 0xFF == ord('q'):\n",
    "        break\n",
    "\n",
    "\n",
    "\n",
    "Vid.release()\n",
    "cv2.destroyAllWindows()"
   ]
  },
  {
   "cell_type": "markdown",
   "metadata": {},
   "source": [
    " "
   ]
  },
  {
   "cell_type": "code",
   "execution_count": null,
   "metadata": {},
   "outputs": [],
   "source": []
  }
 ],
 "metadata": {
  "kernelspec": {
   "display_name": "Python 3",
   "language": "python",
   "name": "python3"
  },
  "language_info": {
   "codemirror_mode": {
    "name": "ipython",
    "version": 3
   },
   "file_extension": ".py",
   "mimetype": "text/x-python",
   "name": "python",
   "nbconvert_exporter": "python",
   "pygments_lexer": "ipython3",
   "version": "3.8.10"
  }
 },
 "nbformat": 4,
 "nbformat_minor": 4
}
